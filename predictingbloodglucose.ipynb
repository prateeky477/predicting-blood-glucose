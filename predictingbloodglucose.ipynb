{
  "nbformat": 4,
  "nbformat_minor": 0,
  "metadata": {
    "colab": {
      "name": "predictingbloodglucose.ipynb",
      "provenance": [],
      "collapsed_sections": [],
      "authorship_tag": "ABX9TyM74K5K3IFNxaLiBT3Ep6PP"
    },
    "kernelspec": {
      "name": "python3",
      "display_name": "Python 3"
    },
    "language_info": {
      "name": "python"
    }
  },
  "cells": [
    {
      "cell_type": "code",
      "execution_count": null,
      "metadata": {
        "id": "KvueKGhTrU2x"
      },
      "outputs": [],
      "source": [
        "import numpy as np\n",
        "\n"
      ]
    },
    {
      "cell_type": "code",
      "source": [
        "import pandas as pd\n",
        "diabetes_df=pd.read_csv(\"diabetes.csv\")\n",
        "diabetes_df.head()"
      ],
      "metadata": {
        "colab": {
          "base_uri": "https://localhost:8080/",
          "height": 206
        },
        "id": "dGveZ3UTriet",
        "outputId": "b7560c78-1ab8-44a2-dea6-44e9a3d76bec"
      },
      "execution_count": null,
      "outputs": [
        {
          "output_type": "execute_result",
          "data": {
            "text/plain": [
              "   Pregnancies  Glucose  BloodPressure  SkinThickness  Insulin   BMI  \\\n",
              "0            6      148             72             35        0  33.6   \n",
              "1            1       85             66             29        0  26.6   \n",
              "2            8      183             64              0        0  23.3   \n",
              "3            1       89             66             23       94  28.1   \n",
              "4            0      137             40             35      168  43.1   \n",
              "\n",
              "   DiabetesPedigreeFunction  Age  Outcome  \n",
              "0                     0.627   50        1  \n",
              "1                     0.351   31        0  \n",
              "2                     0.672   32        1  \n",
              "3                     0.167   21        0  \n",
              "4                     2.288   33        1  "
            ],
            "text/html": [
              "\n",
              "  <div id=\"df-888c37a0-35df-4052-ac52-8132f07bbc88\">\n",
              "    <div class=\"colab-df-container\">\n",
              "      <div>\n",
              "<style scoped>\n",
              "    .dataframe tbody tr th:only-of-type {\n",
              "        vertical-align: middle;\n",
              "    }\n",
              "\n",
              "    .dataframe tbody tr th {\n",
              "        vertical-align: top;\n",
              "    }\n",
              "\n",
              "    .dataframe thead th {\n",
              "        text-align: right;\n",
              "    }\n",
              "</style>\n",
              "<table border=\"1\" class=\"dataframe\">\n",
              "  <thead>\n",
              "    <tr style=\"text-align: right;\">\n",
              "      <th></th>\n",
              "      <th>Pregnancies</th>\n",
              "      <th>Glucose</th>\n",
              "      <th>BloodPressure</th>\n",
              "      <th>SkinThickness</th>\n",
              "      <th>Insulin</th>\n",
              "      <th>BMI</th>\n",
              "      <th>DiabetesPedigreeFunction</th>\n",
              "      <th>Age</th>\n",
              "      <th>Outcome</th>\n",
              "    </tr>\n",
              "  </thead>\n",
              "  <tbody>\n",
              "    <tr>\n",
              "      <th>0</th>\n",
              "      <td>6</td>\n",
              "      <td>148</td>\n",
              "      <td>72</td>\n",
              "      <td>35</td>\n",
              "      <td>0</td>\n",
              "      <td>33.6</td>\n",
              "      <td>0.627</td>\n",
              "      <td>50</td>\n",
              "      <td>1</td>\n",
              "    </tr>\n",
              "    <tr>\n",
              "      <th>1</th>\n",
              "      <td>1</td>\n",
              "      <td>85</td>\n",
              "      <td>66</td>\n",
              "      <td>29</td>\n",
              "      <td>0</td>\n",
              "      <td>26.6</td>\n",
              "      <td>0.351</td>\n",
              "      <td>31</td>\n",
              "      <td>0</td>\n",
              "    </tr>\n",
              "    <tr>\n",
              "      <th>2</th>\n",
              "      <td>8</td>\n",
              "      <td>183</td>\n",
              "      <td>64</td>\n",
              "      <td>0</td>\n",
              "      <td>0</td>\n",
              "      <td>23.3</td>\n",
              "      <td>0.672</td>\n",
              "      <td>32</td>\n",
              "      <td>1</td>\n",
              "    </tr>\n",
              "    <tr>\n",
              "      <th>3</th>\n",
              "      <td>1</td>\n",
              "      <td>89</td>\n",
              "      <td>66</td>\n",
              "      <td>23</td>\n",
              "      <td>94</td>\n",
              "      <td>28.1</td>\n",
              "      <td>0.167</td>\n",
              "      <td>21</td>\n",
              "      <td>0</td>\n",
              "    </tr>\n",
              "    <tr>\n",
              "      <th>4</th>\n",
              "      <td>0</td>\n",
              "      <td>137</td>\n",
              "      <td>40</td>\n",
              "      <td>35</td>\n",
              "      <td>168</td>\n",
              "      <td>43.1</td>\n",
              "      <td>2.288</td>\n",
              "      <td>33</td>\n",
              "      <td>1</td>\n",
              "    </tr>\n",
              "  </tbody>\n",
              "</table>\n",
              "</div>\n",
              "      <button class=\"colab-df-convert\" onclick=\"convertToInteractive('df-888c37a0-35df-4052-ac52-8132f07bbc88')\"\n",
              "              title=\"Convert this dataframe to an interactive table.\"\n",
              "              style=\"display:none;\">\n",
              "        \n",
              "  <svg xmlns=\"http://www.w3.org/2000/svg\" height=\"24px\"viewBox=\"0 0 24 24\"\n",
              "       width=\"24px\">\n",
              "    <path d=\"M0 0h24v24H0V0z\" fill=\"none\"/>\n",
              "    <path d=\"M18.56 5.44l.94 2.06.94-2.06 2.06-.94-2.06-.94-.94-2.06-.94 2.06-2.06.94zm-11 1L8.5 8.5l.94-2.06 2.06-.94-2.06-.94L8.5 2.5l-.94 2.06-2.06.94zm10 10l.94 2.06.94-2.06 2.06-.94-2.06-.94-.94-2.06-.94 2.06-2.06.94z\"/><path d=\"M17.41 7.96l-1.37-1.37c-.4-.4-.92-.59-1.43-.59-.52 0-1.04.2-1.43.59L10.3 9.45l-7.72 7.72c-.78.78-.78 2.05 0 2.83L4 21.41c.39.39.9.59 1.41.59.51 0 1.02-.2 1.41-.59l7.78-7.78 2.81-2.81c.8-.78.8-2.07 0-2.86zM5.41 20L4 18.59l7.72-7.72 1.47 1.35L5.41 20z\"/>\n",
              "  </svg>\n",
              "      </button>\n",
              "      \n",
              "  <style>\n",
              "    .colab-df-container {\n",
              "      display:flex;\n",
              "      flex-wrap:wrap;\n",
              "      gap: 12px;\n",
              "    }\n",
              "\n",
              "    .colab-df-convert {\n",
              "      background-color: #E8F0FE;\n",
              "      border: none;\n",
              "      border-radius: 50%;\n",
              "      cursor: pointer;\n",
              "      display: none;\n",
              "      fill: #1967D2;\n",
              "      height: 32px;\n",
              "      padding: 0 0 0 0;\n",
              "      width: 32px;\n",
              "    }\n",
              "\n",
              "    .colab-df-convert:hover {\n",
              "      background-color: #E2EBFA;\n",
              "      box-shadow: 0px 1px 2px rgba(60, 64, 67, 0.3), 0px 1px 3px 1px rgba(60, 64, 67, 0.15);\n",
              "      fill: #174EA6;\n",
              "    }\n",
              "\n",
              "    [theme=dark] .colab-df-convert {\n",
              "      background-color: #3B4455;\n",
              "      fill: #D2E3FC;\n",
              "    }\n",
              "\n",
              "    [theme=dark] .colab-df-convert:hover {\n",
              "      background-color: #434B5C;\n",
              "      box-shadow: 0px 1px 3px 1px rgba(0, 0, 0, 0.15);\n",
              "      filter: drop-shadow(0px 1px 2px rgba(0, 0, 0, 0.3));\n",
              "      fill: #FFFFFF;\n",
              "    }\n",
              "  </style>\n",
              "\n",
              "      <script>\n",
              "        const buttonEl =\n",
              "          document.querySelector('#df-888c37a0-35df-4052-ac52-8132f07bbc88 button.colab-df-convert');\n",
              "        buttonEl.style.display =\n",
              "          google.colab.kernel.accessAllowed ? 'block' : 'none';\n",
              "\n",
              "        async function convertToInteractive(key) {\n",
              "          const element = document.querySelector('#df-888c37a0-35df-4052-ac52-8132f07bbc88');\n",
              "          const dataTable =\n",
              "            await google.colab.kernel.invokeFunction('convertToInteractive',\n",
              "                                                     [key], {});\n",
              "          if (!dataTable) return;\n",
              "\n",
              "          const docLinkHtml = 'Like what you see? Visit the ' +\n",
              "            '<a target=\"_blank\" href=https://colab.research.google.com/notebooks/data_table.ipynb>data table notebook</a>'\n",
              "            + ' to learn more about interactive tables.';\n",
              "          element.innerHTML = '';\n",
              "          dataTable['output_type'] = 'display_data';\n",
              "          await google.colab.output.renderOutput(dataTable, element);\n",
              "          const docLink = document.createElement('div');\n",
              "          docLink.innerHTML = docLinkHtml;\n",
              "          element.appendChild(docLink);\n",
              "        }\n",
              "      </script>\n",
              "    </div>\n",
              "  </div>\n",
              "  "
            ]
          },
          "metadata": {},
          "execution_count": 3
        }
      ]
    },
    {
      "cell_type": "code",
      "source": [
        "X=diabetes_df.drop(\"Glucose\",axis=1).values\n",
        "y=diabetes_df[\"Glucose\"].values"
      ],
      "metadata": {
        "id": "erW8lrxjsaoO"
      },
      "execution_count": null,
      "outputs": []
    },
    {
      "cell_type": "code",
      "source": [
        "X_bmi=X[:,4]\n",
        "X_bmi"
      ],
      "metadata": {
        "colab": {
          "base_uri": "https://localhost:8080/"
        },
        "id": "hbyXSR3JtNZH",
        "outputId": "32d4e8a9-eeba-4807-ccfd-5673439563eb"
      },
      "execution_count": null,
      "outputs": [
        {
          "output_type": "execute_result",
          "data": {
            "text/plain": [
              "array([33.6, 26.6, 23.3, 28.1, 43.1, 25.6, 31. , 35.3, 30.5,  0. , 37.6,\n",
              "       38. , 27.1, 30.1, 25.8, 30. , 45.8, 29.6, 43.3, 34.6, 39.3, 35.4,\n",
              "       39.8, 29. , 36.6, 31.1, 39.4, 23.2, 22.2, 34.1, 36. , 31.6, 24.8,\n",
              "       19.9, 27.6, 24. , 33.2, 32.9, 38.2, 37.1, 34. , 40.2, 22.7, 45.4,\n",
              "       27.4, 42. , 29.7, 28. , 39.1,  0. , 19.4, 24.2, 24.4, 33.7, 34.7,\n",
              "       23. , 37.7, 46.8, 40.5, 41.5,  0. , 32.9, 25. , 25.4, 32.8, 29. ,\n",
              "       32.5, 42.7, 19.6, 28.9, 32.9, 28.6, 43.4, 35.1, 32. , 24.7, 32.6,\n",
              "       37.7, 43.2, 25. , 22.4,  0. , 29.3, 24.6, 48.8, 32.4, 36.6, 38.5,\n",
              "       37.1, 26.5, 19.1, 32. , 46.7, 23.8, 24.7, 33.9, 31.6, 20.4, 28.7,\n",
              "       49.7, 39. , 26.1, 22.5, 26.6, 39.6, 28.7, 22.4, 29.5, 34.3, 37.4,\n",
              "       33.3, 34. , 31.2, 34. , 30.5, 31.2, 34. , 33.7, 28.2, 23.2, 53.2,\n",
              "       34.2, 33.6, 26.8, 33.3, 55. , 42.9, 33.3, 34.5, 27.9, 29.7, 33.3,\n",
              "       34.5, 38.3, 21.1, 33.8, 30.8, 28.7, 31.2, 36.9, 21.1, 39.5, 32.5,\n",
              "       32.4, 32.8,  0. , 32.8, 30.5, 33.7, 27.3, 37.4, 21.9, 34.3, 40.6,\n",
              "       47.9, 50. , 24.6, 25.2, 29. , 40.9, 29.7, 37.2, 44.2, 29.7, 31.6,\n",
              "       29.9, 32.5, 29.6, 31.9, 28.4, 30.8, 35.4, 28.9, 43.5, 29.7, 32.7,\n",
              "       31.2, 67.1, 45. , 39.1, 23.2, 34.9, 27.7, 26.8, 27.6, 35.9, 30.1,\n",
              "       32. , 27.9, 31.6, 22.6, 33.1, 30.4, 52.3, 24.4, 39.4, 24.3, 22.9,\n",
              "       34.8, 30.9, 31. , 40.1, 27.3, 20.4, 37.7, 23.9, 37.5, 37.7, 33.2,\n",
              "       35.5, 27.7, 42.8, 34.2, 42.6, 34.2, 41.8, 35.8, 30. , 29. , 37.8,\n",
              "       34.6, 31.6, 25.2, 28.8, 23.6, 34.6, 35.7, 37.2, 36.7, 45.2, 44. ,\n",
              "       46.2, 25.4, 35. , 29.7, 43.6, 35.9, 44.1, 30.8, 18.4, 29.2, 33.1,\n",
              "       25.6, 27.1, 38.2, 30. , 31.2, 52.3, 35.4, 30.1, 31.2, 28. , 24.4,\n",
              "       35.8, 27.6, 33.6, 30.1, 28.7, 25.9, 33.3, 30.9, 30. , 32.1, 32.4,\n",
              "       32. , 33.6, 36.3, 40. , 25.1, 27.5, 45.6, 25.2, 23. , 33.2, 34.2,\n",
              "       40.5, 26.5, 27.8, 24.9, 25.3, 37.9, 35.9, 32.4, 30.4, 27. , 26. ,\n",
              "       38.7, 45.6, 20.8, 36.1, 36.9, 36.6, 43.3, 40.5, 21.9, 35.5, 28. ,\n",
              "       30.7, 36.6, 23.6, 32.3, 31.6, 35.8, 52.9, 21. , 39.7, 25.5, 24.8,\n",
              "       30.5, 32.9, 26.2, 39.4, 26.6, 29.5, 35.9, 34.1, 19.3, 30.5, 38.1,\n",
              "       23.5, 27.5, 31.6, 27.4, 26.8, 35.7, 25.6, 35.1, 35.1, 45.5, 30.8,\n",
              "       23.1, 32.7, 43.3, 23.6, 23.9, 47.9, 33.8, 31.2, 34.2, 39.9, 25.9,\n",
              "       25.9, 32. , 34.7, 36.8, 38.5, 28.7, 23.5, 21.8, 41. , 42.2, 31.2,\n",
              "       34.4, 27.2, 42.7, 30.4, 33.3, 39.9, 35.3, 36.5, 31.2, 29.8, 39.2,\n",
              "       38.5, 34.9, 34. , 27.6, 21. , 27.5, 32.8, 38.4,  0. , 35.8, 34.9,\n",
              "       36.2, 39.2, 25.2, 37.2, 48.3, 43.4, 30.8, 20. , 25.4, 25.1, 24.3,\n",
              "       22.3, 32.3, 43.3, 32. , 31.6, 32. , 45.7, 23.7, 22.1, 32.9, 27.7,\n",
              "       24.7, 34.3, 21.1, 34.9, 32. , 24.2, 35. , 31.6, 32.9, 42.1, 28.9,\n",
              "       21.9, 25.9, 42.4, 35.7, 34.4, 42.4, 26.2, 34.6, 35.7, 27.2, 38.5,\n",
              "       18.2, 26.4, 45.3, 26. , 40.6, 30.8, 42.9, 37. ,  0. , 34.1, 40.6,\n",
              "       35. , 22.2, 30.4, 30. , 25.6, 24.5, 42.4, 37.4, 29.9, 18.2, 36.8,\n",
              "       34.3, 32.2, 33.2, 30.5, 29.7, 59.4, 25.3, 36.5, 33.6, 30.5, 21.2,\n",
              "       28.9, 39.9, 19.6, 37.8, 33.6, 26.7, 30.2, 37.6, 25.9, 20.8, 21.8,\n",
              "       35.3, 27.6, 24. , 21.8, 27.8, 36.8, 30. , 46.1, 41.3, 33.2, 38.8,\n",
              "       29.9, 28.9, 27.3, 33.7, 23.8, 25.9, 28. , 35.5, 35.2, 27.8, 38.2,\n",
              "       44.2, 42.3, 40.7, 46.5, 25.6, 26.1, 36.8, 33.5, 32.8, 28.9,  0. ,\n",
              "       26.6, 26. , 30.1, 25.1, 29.3, 25.2, 37.2, 39. , 33.3, 37.3, 33.3,\n",
              "       36.5, 28.6, 30.4, 25. , 29.7, 22.1, 24.2, 27.3, 25.6, 31.6, 30.3,\n",
              "       37.6, 32.8, 19.6, 25. , 33.2,  0. , 34.2, 31.6, 21.8, 18.2, 26.3,\n",
              "       30.8, 24.6, 29.8, 45.3, 41.3, 29.8, 33.3, 32.9, 29.6, 21.7, 36.3,\n",
              "       36.4, 39.4, 32.4, 34.9, 39.5, 32. , 34.5, 43.6, 33.1, 32.8, 28.5,\n",
              "       27.4, 31.9, 27.8, 29.9, 36.9, 25.5, 38.1, 27.8, 46.2, 30.1, 33.8,\n",
              "       41.3, 37.6, 26.9, 32.4, 26.1, 38.6, 32. , 31.3, 34.3, 32.5, 22.6,\n",
              "       29.5, 34.7, 30.1, 35.5, 24. , 42.9, 27. , 34.7, 42.1, 25. , 26.5,\n",
              "       38.7, 28.7, 22.5, 34.9, 24.3, 33.3, 21.1, 46.8, 39.4, 34.4, 28.5,\n",
              "       33.6, 32. , 45.3, 27.8, 36.8, 23.1, 27.1, 23.7, 27.8, 35.2, 28.4,\n",
              "       35.8, 40. , 19.5, 41.5, 24. , 30.9, 32.9, 38.2, 32.5, 36.1, 25.8,\n",
              "       28.7, 20.1, 28.2, 32.4, 38.4, 24.2, 40.8, 43.5, 30.8, 37.7, 24.7,\n",
              "       32.4, 34.6, 24.7, 27.4, 34.5, 26.2, 27.5, 25.9, 31.2, 28.8, 31.6,\n",
              "       40.9, 19.5, 29.3, 34.3, 29.5, 28. , 27.6, 39.4, 23.4, 37.8, 28.3,\n",
              "       26.4, 25.2, 33.8, 34.1, 26.8, 34.2, 38.7, 21.8, 38.9, 39. , 34.2,\n",
              "       27.7, 42.9, 37.6, 37.9, 33.7, 34.8, 32.5, 27.5, 34. , 30.9, 33.6,\n",
              "       25.4, 35.5, 57.3, 35.6, 30.9, 24.8, 35.3, 36. , 24.2, 24.2, 49.6,\n",
              "       44.6, 32.3,  0. , 33.2, 23.1, 28.3, 24.1, 46.1, 24.6, 42.3, 39.1,\n",
              "       38.5, 23.5, 30.4, 29.9, 25. , 34.5, 44.5, 35.9, 27.6, 35. , 38.5,\n",
              "       28.4, 39.8,  0. , 34.4, 32.8, 38. , 31.2, 29.6, 41.2, 26.4, 29.5,\n",
              "       33.9, 33.8, 23.1, 35.5, 35.6, 29.3, 38.1, 29.3, 39.1, 32.8, 39.4,\n",
              "       36.1, 32.4, 22.9, 30.1, 28.4, 28.4, 44.5, 29. , 23.3, 35.4, 27.4,\n",
              "       32. , 36.6, 39.5, 42.3, 30.8, 28.5, 32.7, 40.6, 30. , 49.3, 46.3,\n",
              "       36.4, 24.3, 31.2, 39. , 26. , 43.3, 32.4, 36.5, 32. , 36.3, 37.5,\n",
              "       35.5, 28.4, 44. , 22.5, 32.9, 36.8, 26.2, 30.1, 30.4])"
            ]
          },
          "metadata": {},
          "execution_count": 5
        }
      ]
    },
    {
      "cell_type": "code",
      "source": [
        "print(X_bmi.shape)"
      ],
      "metadata": {
        "colab": {
          "base_uri": "https://localhost:8080/"
        },
        "id": "r0n82XRltYcJ",
        "outputId": "caa74a28-a45b-4914-ac39-675c1c9570da"
      },
      "execution_count": null,
      "outputs": [
        {
          "output_type": "stream",
          "name": "stdout",
          "text": [
            "(768,)\n"
          ]
        }
      ]
    },
    {
      "cell_type": "code",
      "source": [
        "X_bmi=X_bmi.reshape(-1,1)"
      ],
      "metadata": {
        "id": "aVZLodLvtxqm"
      },
      "execution_count": null,
      "outputs": []
    },
    {
      "cell_type": "code",
      "source": [
        "import matplotlib.pyplot as plt\n",
        "plt.scatter(X_bmi,y)\n",
        "plt.xlabel(\"BMI\")\n",
        "plt.ylabel(\"Glucose level\")\n",
        "plt.show()"
      ],
      "metadata": {
        "colab": {
          "base_uri": "https://localhost:8080/",
          "height": 279
        },
        "id": "dUg10yidt5tv",
        "outputId": "7285aff6-8c14-4430-f53b-08d46181c4b2"
      },
      "execution_count": null,
      "outputs": [
        {
          "output_type": "display_data",
          "data": {
            "text/plain": [
              "<Figure size 432x288 with 1 Axes>"
            ],
            "image/png": "[encoded data removed]"
          },
          "metadata": {
            "needs_background": "light"
          }
        }
      ]
    },
    {
      "cell_type": "code",
      "source": [
        "from sklearn.linear_model import LinearRegression\n",
        "reg=LinearRegression()\n",
        "reg.fit(X_bmi,y)\n",
        "predictions=reg.predict(X_bmi)\n",
        "plt.scatter(X_bmi,y)\n",
        "plt.plot(X_bmi,predictions)\n",
        "plt.xlabel(\"BMI\")\n",
        "plt.ylabel(\"Glucose level\")\n",
        "plt.show()\n"
      ],
      "metadata": {
        "colab": {
          "base_uri": "https://localhost:8080/",
          "height": 279
        },
        "id": "DJf9uSO4uSeP",
        "outputId": "c74b666f-544d-47ff-b313-31ccf3e23418"
      },
      "execution_count": null,
      "outputs": [
        {
          "output_type": "display_data",
          "data": {
            "text/plain": [
              "<Figure size 432x288 with 1 Axes>"
            ],
            "image/png": "[encoded data removed]"
          },
          "metadata": {
            "needs_background": "light"
          }
        }
      ]
    },
    {
      "cell_type": "code",
      "source": [
        "from sklearn.model_selection import train_test_split\n",
        "from sklearn.linear_model import  LinearRegression\n",
        "\n",
        "X_train,X_test,y_train,y_test=train_test_split(X,y,test_size=0.3,random_state=42)"
      ],
      "metadata": {
        "id": "TK3CEmCm3FcA"
      },
      "execution_count": null,
      "outputs": []
    },
    {
      "cell_type": "code",
      "source": [
        "reg_all=LinearRegression()"
      ],
      "metadata": {
        "id": "4TLL4-qw6WdM"
      },
      "execution_count": null,
      "outputs": []
    },
    {
      "cell_type": "code",
      "source": [
        "reg_all.fit(X_train,y_train)"
      ],
      "metadata": {
        "colab": {
          "base_uri": "https://localhost:8080/"
        },
        "id": "MdDr6-hw3xMK",
        "outputId": "2ce5d8c6-f6c4-442c-fc45-a38279a469ec"
      },
      "execution_count": null,
      "outputs": [
        {
          "output_type": "execute_result",
          "data": {
            "text/plain": [
              "LinearRegression()"
            ]
          },
          "metadata": {},
          "execution_count": 22
        }
      ]
    },
    {
      "cell_type": "code",
      "source": [
        "y_predict=reg_all.predict(X_test)\n",
        "print(len(X_test))\n",
        "print(len(y_predict))"
      ],
      "metadata": {
        "colab": {
          "base_uri": "https://localhost:8080/"
        },
        "id": "3UL0ExB3326Z",
        "outputId": "32904151-bdfc-4899-9842-d77818579f05"
      },
      "execution_count": null,
      "outputs": [
        {
          "output_type": "stream",
          "name": "stdout",
          "text": [
            "231\n",
            "231\n"
          ]
        }
      ]
    },
    {
      "cell_type": "code",
      "source": [
        "reg_all.score(X_test,y_test)"
      ],
      "metadata": {
        "colab": {
          "base_uri": "https://localhost:8080/"
        },
        "id": "2MPVGPHN3_4A",
        "outputId": "81c5ecb2-6761-487a-89fa-879318345801"
      },
      "execution_count": null,
      "outputs": [
        {
          "output_type": "execute_result",
          "data": {
            "text/plain": [
              "0.28280468810375115"
            ]
          },
          "metadata": {},
          "execution_count": 24
        }
      ]
    },
    {
      "cell_type": "code",
      "source": [
        "from sklearn.metrics import mean_squared_error\n"
      ],
      "metadata": {
        "id": "9CFXc6du4iMd"
      },
      "execution_count": null,
      "outputs": []
    },
    {
      "cell_type": "code",
      "source": [
        "mean_squared_error(y_test,y_predict,squared=False)"
      ],
      "metadata": {
        "colab": {
          "base_uri": "https://localhost:8080/"
        },
        "id": "kbeHrGgR5yPh",
        "outputId": "d7d08db5-b262-4752-b048-9ed3278a456c"
      },
      "execution_count": null,
      "outputs": [
        {
          "output_type": "execute_result",
          "data": {
            "text/plain": [
              "26.341459582232265"
            ]
          },
          "metadata": {},
          "execution_count": 32
        }
      ]
    },
    {
      "cell_type": "code",
      "source": [
        "from sklearn.model_selection import cross_val_score,KFold"
      ],
      "metadata": {
        "id": "9l9Zc0lL5z3w"
      },
      "execution_count": null,
      "outputs": []
    },
    {
      "cell_type": "code",
      "source": [
        "kf=KFold(n_splits=6,shuffle=True,random_state=42)"
      ],
      "metadata": {
        "id": "16DtGIbqI19d"
      },
      "execution_count": null,
      "outputs": []
    },
    {
      "cell_type": "code",
      "source": [
        "reg=LinearRegression()"
      ],
      "metadata": {
        "id": "Azj2D5D5I--v"
      },
      "execution_count": null,
      "outputs": []
    },
    {
      "cell_type": "code",
      "source": [
        "cv_results=cross_val_score(reg,X,y,cv=kf)"
      ],
      "metadata": {
        "id": "7QgOByFEJBcn"
      },
      "execution_count": null,
      "outputs": []
    },
    {
      "cell_type": "code",
      "source": [
        "cv_results"
      ],
      "metadata": {
        "colab": {
          "base_uri": "https://localhost:8080/"
        },
        "id": "7MD_x3c_5U5i",
        "outputId": "d915e1d6-4cfd-42dd-fbb7-64d09bbcd1f2"
      },
      "execution_count": null,
      "outputs": [
        {
          "output_type": "execute_result",
          "data": {
            "text/plain": [
              "array([0.26207548, 0.28228176, 0.41203082, 0.23785884, 0.41634629,\n",
              "       0.30398869])"
            ]
          },
          "metadata": {},
          "execution_count": 37
        }
      ]
    },
    {
      "cell_type": "code",
      "source": [
        "np.mean(cv_results)"
      ],
      "metadata": {
        "colab": {
          "base_uri": "https://localhost:8080/"
        },
        "id": "LrtybInRJQKk",
        "outputId": "5db91ade-2ae4-4ee7-e67a-d9e9bfc00a0d"
      },
      "execution_count": null,
      "outputs": [
        {
          "output_type": "execute_result",
          "data": {
            "text/plain": [
              "0.3190969786734479"
            ]
          },
          "metadata": {},
          "execution_count": 40
        }
      ]
    },
    {
      "cell_type": "code",
      "source": [
        "np.std(cv_results)"
      ],
      "metadata": {
        "colab": {
          "base_uri": "https://localhost:8080/"
        },
        "id": "30cVU4dMJYoe",
        "outputId": "78a6f318-0575-47aa-b9b5-132e15da40b7"
      },
      "execution_count": null,
      "outputs": [
        {
          "output_type": "execute_result",
          "data": {
            "text/plain": [
              "0.07015320610114183"
            ]
          },
          "metadata": {},
          "execution_count": 41
        }
      ]
    },
    {
      "cell_type": "code",
      "source": [
        "from sklearn.linear_model import Ridge\n",
        "scores = []\n",
        "for alpha in [0.1, 1.0, 10.0, 100.0, 1000.0]:    \n",
        "  ridge = Ridge(alpha=alpha)    \n",
        "  ridge.fit(X_train, y_train)    \n",
        "  y_pred = ridge.predict(X_test)    \n",
        "  scores.append(ridge.score(X_test, y_test))\n",
        "print(scores)"
      ],
      "metadata": {
        "colab": {
          "base_uri": "https://localhost:8080/"
        },
        "id": "O6tflmP0M2um",
        "outputId": "750ed863-da5e-473d-d604-10c78ddda633"
      },
      "execution_count": null,
      "outputs": [
        {
          "output_type": "stream",
          "name": "stdout",
          "text": [
            "[0.2828466623222221, 0.28320633574804777, 0.2853000732200006, 0.26423984812668133, 0.19292424694100963]\n"
          ]
        }
      ]
    },
    {
      "cell_type": "code",
      "source": [
        "from sklearn.linear_model import Lasso\n",
        "scores = []\n",
        "for alpha in [0.01, 1.0, 10.0, 20.0, 50.0]:\n",
        "  lasso = Lasso(alpha=alpha)\n",
        "  lasso.fit(X_train, y_train)\n",
        "  lasso_pred = lasso.predict(X_test)\n",
        "  scores.append(lasso.score(X_test, y_test))\n",
        "\n",
        "print(scores)\n"
      ],
      "metadata": {
        "colab": {
          "base_uri": "https://localhost:8080/"
        },
        "id": "Sy2b3s8xJjwE",
        "outputId": "7b16342a-27bf-4aeb-853e-02a3a039b1df"
      },
      "execution_count": null,
      "outputs": [
        {
          "output_type": "stream",
          "name": "stdout",
          "text": [
            "[0.2831114455475573, 0.29795609755827845, 0.17989838789273893, 0.18127361610181125, 0.15679544303617987]\n"
          ]
        }
      ]
    },
    {
      "cell_type": "code",
      "source": [
        "from sklearn.linear_model import Lasso\n",
        "X = diabetes_df.drop(\"Glucose\", axis=1).values\n",
        "y = diabetes_df[\"Glucose\"].values\n",
        "names = diabetes_df.drop(\"Glucose\", axis=1).columns\n",
        "lasso = Lasso(alpha=0.1)\n",
        "lasso_coef = lasso.fit(X, y).coef_\n",
        "plt.bar(names, lasso_coef)\n",
        "plt.xticks(rotation=45)\n",
        "plt.show()"
      ],
      "metadata": {
        "colab": {
          "base_uri": "https://localhost:8080/",
          "height": 355
        },
        "id": "PfaSrugNNECD",
        "outputId": "a67b8bb1-58dd-4d3f-e7c4-14b9b3567d99"
      },
      "execution_count": null,
      "outputs": [
        {
          "output_type": "display_data",
          "data": {
            "text/plain": [
              "<Figure size 432x288 with 1 Axes>"
            ],
            "image/png": "[encoded data removed]"
          },
          "metadata": {
            "needs_background": "light"
          }
        }
      ]
    }
  ]
}